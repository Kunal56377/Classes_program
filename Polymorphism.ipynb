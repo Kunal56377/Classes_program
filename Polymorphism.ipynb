{
 "cells": [
  {
   "cell_type": "code",
   "execution_count": 3,
   "metadata": {},
   "outputs": [],
   "source": [
    "# Polymorphism is a very important concept in programming. \n",
    "#It refers to the use of a single type entity (method, operator or object) to represent different types in different scenarios."
   ]
  },
  {
   "cell_type": "markdown",
   "metadata": {},
   "source": [
    "### Operator Level Polymorphism\n"
   ]
  },
  {
   "cell_type": "code",
   "execution_count": 5,
   "metadata": {},
   "outputs": [
    {
     "name": "stdout",
     "output_type": "stream",
     "text": [
      "30\n",
      "KunalMugalkhod\n"
     ]
    }
   ],
   "source": [
    "# Example 1 \n",
    "\n",
    "# Here you can clearly see that we have used + operator to do the addition of two numbers as well concanate two strings . Single operator used for two purposes over here one for addition and one for concanate string\n",
    "\n",
    "num1 = 10 \n",
    "num2 = 20\n",
    "\n",
    "print(num1 + num2 )\n",
    "\n",
    "str1 = \"Kunal\"\n",
    "str2 = \"Mugalkhod\"\n",
    "\n",
    "print (str1 + str2)"
   ]
  },
  {
   "cell_type": "code",
   "execution_count": 16,
   "metadata": {},
   "outputs": [],
   "source": [
    "## Lets implement same example in Python \n",
    "\n",
    "class MydataType:\n",
    "\n",
    "  def __init__(self,a):\n",
    "    self.value = a\n",
    "\n",
    "  def __add__(self,other):\n",
    "    pass\n",
    "\n",
    "class MydataTypeStr(MydataType):\n",
    "\n",
    "\n",
    "  def __add__(self,other):\n",
    "    return \"{}{}\".format(self.value,other.value)\n",
    "  \n",
    "\n",
    "class MydataTypeInt(MydataType):\n",
    "\n",
    "  def __add__(self,other):\n",
    "    return self.value + other.value\n",
    "\n",
    "\n"
   ]
  },
  {
   "cell_type": "code",
   "execution_count": 18,
   "metadata": {},
   "outputs": [
    {
     "name": "stdout",
     "output_type": "stream",
     "text": [
      "30\n",
      "KunalMugalkhod\n"
     ]
    }
   ],
   "source": [
    "\n",
    "num1 = MydataTypeInt(10) \n",
    "num2 = MydataTypeInt(20) \n",
    "\n",
    "print(num1 + num2 )\n",
    "\n",
    "str1 = MydataTypeStr(\"Kunal\")\n",
    "str2 = MydataTypeStr(\"Mugalkhod\")\n",
    "\n",
    "print (str1 + str2)"
   ]
  },
  {
   "cell_type": "code",
   "execution_count": 20,
   "metadata": {},
   "outputs": [],
   "source": [
    "## Above example we can called as operator overloading as well . This is one form of Polymorphisum we use + operator for different operation .  \n",
    "\n",
    "# Some Methods we can do overloading \n",
    "\n",
    "# +  = __add__\n",
    "# - = __sub__\n",
    "# * = __mul__  Like wise"
   ]
  },
  {
   "cell_type": "markdown",
   "metadata": {},
   "source": [
    "### Function Level Polymorphism\n"
   ]
  },
  {
   "cell_type": "code",
   "execution_count": 23,
   "metadata": {},
   "outputs": [
    {
     "name": "stdout",
     "output_type": "stream",
     "text": [
      "3\n",
      "6\n",
      "4\n"
     ]
    }
   ],
   "source": [
    "print(len([1,2,3]))\n",
    "print(len (\"abcdef\"))\n",
    "print(len({1,2,3,4}))"
   ]
  },
  {
   "cell_type": "code",
   "execution_count": 24,
   "metadata": {},
   "outputs": [],
   "source": [
    "## Above example simple to implement . Implement as assigmement"
   ]
  },
  {
   "cell_type": "markdown",
   "metadata": {},
   "source": [
    "### Class level Polymorphism\n"
   ]
  },
  {
   "cell_type": "code",
   "execution_count": 27,
   "metadata": {},
   "outputs": [
    {
     "name": "stdout",
     "output_type": "stream",
     "text": [
      "Function P in A\n",
      "Function P in B\n"
     ]
    }
   ],
   "source": [
    "class A:\n",
    "  def p(self):\n",
    "    return \"Function P in A\"\n",
    "\n",
    "class B:\n",
    "  def p(self):\n",
    "    return \"Function P in B\"\n",
    "  \n",
    "\n",
    "a = A()\n",
    "b = B()\n",
    "\n",
    "for i in (a,b):\n",
    "  print(i.p())"
   ]
  },
  {
   "cell_type": "markdown",
   "metadata": {},
   "source": [
    "### One Exmple how to use Polymorphsm and inheritance\n"
   ]
  },
  {
   "cell_type": "code",
   "execution_count": 31,
   "metadata": {},
   "outputs": [],
   "source": [
    "### Code reference take from below website\n",
    "\n",
    "#https://overiq.com/python-101/inheritance-and-polymorphism-in-python/"
   ]
  },
  {
   "cell_type": "code",
   "execution_count": 29,
   "metadata": {},
   "outputs": [],
   "source": [
    "import math\n",
    "\n",
    "class Shape:\n",
    "\n",
    "    def __init__(self, color='black', filled=False):\n",
    "        self.__color = color\n",
    "        self.__filled = filled\n",
    "\n",
    "    def get_color(self):\n",
    "        return self.__color\n",
    "\n",
    "    def set_color(self, color):\n",
    "        self.__color = color\n",
    "\n",
    "    def get_filled(self):\n",
    "        return self.__filled\n",
    "\n",
    "    def set_filled(self, filled):\n",
    "        self.__filled = filled\n",
    "\n",
    "\n",
    "class Rectangle(Shape):\n",
    "\n",
    "    def __init__(self, length, breadth):\n",
    "        super().__init__()\n",
    "        self.__length = length\n",
    "        self.__breadth = breadth\n",
    "\n",
    "    def get_length(self):\n",
    "        return self.__length\n",
    "\n",
    "    def set_length(self, length):\n",
    "        self.__length = length\n",
    "\n",
    "    def get_breadth(self):\n",
    "        return self.__breadth\n",
    "\n",
    "    def set_breadth(self, breadth):\n",
    "        self.__breadth = breadth\n",
    "\n",
    "    def get_area(self):\n",
    "        return self.__length * self.__breadth\n",
    "\n",
    "    def get_perimeter(self):\n",
    "        return 2 * (self.__length + self.__breadth)\n",
    "\n",
    "\n",
    "class Circle(Shape):\n",
    "    def __init__(self, radius):\n",
    "        super().__init__()\n",
    "        self.__radius = radius\n",
    "\n",
    "    def get_radius(self):\n",
    "        return self.__radius\n",
    "\n",
    "    def set_radius(self, radius):\n",
    "        self.__radius = radius\n",
    "\n",
    "    def get_area(self):\n",
    "        return math.pi * self.__radius ** 2\n",
    "\n",
    "    def get_perimeter(self):\n",
    "        return 2 * math.pi * self.__radius"
   ]
  },
  {
   "cell_type": "code",
   "execution_count": 30,
   "metadata": {},
   "outputs": [
    {
     "name": "stdout",
     "output_type": "stream",
     "text": [
      "Area of rectangle r1: 26.25\n",
      "Perimeter of rectangle r1: 26.0\n",
      "Color of rectangle r1: black\n",
      "Is rectangle r1 filled ?  False\n",
      "Is rectangle r1 filled ?  True\n",
      "Color of rectangle r1: orange\n",
      "\n",
      "Area of circle c1: 452.39\n",
      "Perimeter of circle c1: 75.40\n",
      "Color of circle c1: black\n",
      "Is circle c1 filled ?  False\n",
      "Is circle c1 filled ?  True\n",
      "Color of circle c1: blue\n"
     ]
    }
   ],
   "source": [
    "r1 = Rectangle(10.5, 2.5)\n",
    "\n",
    "print(\"Area of rectangle r1:\", r1.get_area())\n",
    "print(\"Perimeter of rectangle r1:\", r1.get_perimeter())\n",
    "print(\"Color of rectangle r1:\", r1.get_color())\n",
    "print(\"Is rectangle r1 filled ? \", r1.get_filled())\n",
    "r1.set_filled(True)\n",
    "print(\"Is rectangle r1 filled ? \", r1.get_filled())\n",
    "r1.set_color(\"orange\")\n",
    "print(\"Color of rectangle r1:\", r1.get_color())\n",
    "\n",
    "c1 = Circle(12)\n",
    "\n",
    "print(\"\\nArea of circle c1:\", format(c1.get_area(), \"0.2f\"))\n",
    "print(\"Perimeter of circle c1:\", format(c1.get_perimeter(), \"0.2f\"))\n",
    "print(\"Color of circle c1:\", c1.get_color())\n",
    "print(\"Is circle c1 filled ? \", c1.get_filled())\n",
    "c1.set_filled(True)\n",
    "print(\"Is circle c1 filled ? \", c1.get_filled())\n",
    "c1.set_color(\"blue\")\n",
    "print(\"Color of circle c1:\", c1.get_color())"
   ]
  }
 ],
 "metadata": {
  "kernelspec": {
   "display_name": "Python 3",
   "language": "python",
   "name": "python3"
  },
  "language_info": {
   "codemirror_mode": {
    "name": "ipython",
    "version": 3
   },
   "file_extension": ".py",
   "mimetype": "text/x-python",
   "name": "python",
   "nbconvert_exporter": "python",
   "pygments_lexer": "ipython3",
   "version": "3.12.0"
  }
 },
 "nbformat": 4,
 "nbformat_minor": 2
}
