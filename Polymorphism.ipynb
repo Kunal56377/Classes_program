{
 "cells": [
  {
   "cell_type": "code",
   "execution_count": 2,
   "metadata": {},
   "outputs": [],
   "source": [
    "## Polymorphism\n",
    "# It referes to the use of single type of entity (method,operator, object) to represent diiferent types"
   ]
  },
  {
   "cell_type": "markdown",
   "metadata": {},
   "source": [
    "#### Operator Level Polymorphism\n",
    "\n",
    "#### Function Level Polymorphism\n",
    "\n",
    "#### Class Level Polymorphism\n"
   ]
  },
  {
   "cell_type": "code",
   "execution_count": 3,
   "metadata": {},
   "outputs": [
    {
     "name": "stdout",
     "output_type": "stream",
     "text": [
      "50\n",
      "KunalMugalkhod\n"
     ]
    }
   ],
   "source": [
    "# Example 1 \n",
    "\n",
    "num1 = 20\n",
    "num2 = 30\n",
    "\n",
    "print(num1 + num2)\n",
    "\n",
    "str1 = \"Kunal\"\n",
    "str2  = \"Mugalkhod\"\n",
    "\n",
    "print(str1 + str2)\n"
   ]
  },
  {
   "cell_type": "code",
   "execution_count": 5,
   "metadata": {},
   "outputs": [
    {
     "name": "stdout",
     "output_type": "stream",
     "text": [
      "<class 'int'>\n",
      "<class 'str'>\n"
     ]
    }
   ],
   "source": [
    "print(type(num1))\n",
    "print(type(str1))"
   ]
  },
  {
   "cell_type": "code",
   "execution_count": 8,
   "metadata": {},
   "outputs": [],
   "source": [
    "# Some list of operators are and their methods\n",
    "\n",
    "# \"+\" : \"__add__\" \n",
    "# \"-\" : \"__sub__\"\n",
    "# \"*\" : \"__mul__\"\n",
    "# \"/\" :  \"__div__\""
   ]
  },
  {
   "cell_type": "code",
   "execution_count": 19,
   "metadata": {},
   "outputs": [],
   "source": [
    "class Mydatatype:\n",
    "\n",
    "  def __init__(self,a):\n",
    "    self.value =a\n",
    "\n",
    "  def __add__(self,other):\n",
    "    pass\n",
    "\n",
    "class MydatatypeStr(Mydatatype):\n",
    "  def __str__(self):\n",
    "    return str(self.value)\n",
    "  \n",
    "  def __add__(self,other):\n",
    "    return \"{}{}\".format(self.value,other.value)\n",
    "\n",
    "class MydatatypeInt(Mydatatype):\n",
    "  \n",
    "  def __add__(self,other):\n",
    "    return self.value + other.value"
   ]
  },
  {
   "cell_type": "code",
   "execution_count": 20,
   "metadata": {},
   "outputs": [
    {
     "name": "stdout",
     "output_type": "stream",
     "text": [
      "50\n",
      "KunalMugalkhod\n"
     ]
    }
   ],
   "source": [
    "# Example 1 \n",
    "\n",
    "num1 = MydatatypeInt(20)\n",
    "num2 = MydatatypeInt(30)\n",
    "\n",
    "print(num1 + num2)\n",
    "\n",
    "str1 = MydatatypeStr(\"Kunal\")\n",
    "str2  = MydatatypeStr(\"Mugalkhod\")\n",
    "\n",
    "print(str1 + str2)\n"
   ]
  },
  {
   "cell_type": "code",
   "execution_count": 21,
   "metadata": {},
   "outputs": [],
   "source": [
    "# Function Level Polymorphism"
   ]
  },
  {
   "cell_type": "code",
   "execution_count": 30,
   "metadata": {},
   "outputs": [],
   "source": [
    "class person():\n",
    "\n",
    "  def __init__(self,firstname,lastname,age):\n",
    "    self.firstname = firstname \n",
    "    self.lastname = lastname    \n",
    "    self.age =age\n",
    "    \n",
    "  def updatename(self,age:int):\n",
    "    self.age = age\n",
    "  \n",
    "  def updatename(self,firstname,lastname):\n",
    "    self.firstname = firstname\n",
    "    self.lastname = lastname\n",
    "  \n",
    "  def print_obj(self):\n",
    "    print(self.firstname)\n",
    "    print(self.lastname)"
   ]
  },
  {
   "cell_type": "code",
   "execution_count": 32,
   "metadata": {},
   "outputs": [
    {
     "ename": "TypeError",
     "evalue": "person.__init__() takes 3 positional arguments but 4 were given",
     "output_type": "error",
     "traceback": [
      "\u001b[1;31m---------------------------------------------------------------------------\u001b[0m",
      "\u001b[1;31mTypeError\u001b[0m                                 Traceback (most recent call last)",
      "Cell \u001b[1;32mIn[32], line 1\u001b[0m\n\u001b[1;32m----> 1\u001b[0m p \u001b[38;5;241m=\u001b[39m \u001b[43mperson\u001b[49m\u001b[43m(\u001b[49m\u001b[38;5;124;43m\"\u001b[39;49m\u001b[38;5;124;43mkunal\u001b[39;49m\u001b[38;5;124;43m\"\u001b[39;49m\u001b[43m,\u001b[49m\u001b[38;5;124;43m\"\u001b[39;49m\u001b[38;5;124;43mmugalkhod\u001b[39;49m\u001b[38;5;124;43m\"\u001b[39;49m\u001b[43m,\u001b[49m\u001b[38;5;241;43m30\u001b[39;49m\u001b[43m)\u001b[49m\n\u001b[0;32m      2\u001b[0m p\u001b[38;5;241m.\u001b[39mprint_obj()\n\u001b[0;32m      3\u001b[0m p\u001b[38;5;241m.\u001b[39mupdatename(\u001b[38;5;241m30\u001b[39m)\n",
      "\u001b[1;31mTypeError\u001b[0m: person.__init__() takes 3 positional arguments but 4 were given"
     ]
    }
   ],
   "source": [
    "p = person(\"kunal\",\"mugalkhod\",30)\n",
    "p.print_obj()\n",
    "p.updatename(30)\n",
    "p.print_obj()"
   ]
  },
  {
   "cell_type": "code",
   "execution_count": 33,
   "metadata": {},
   "outputs": [],
   "source": [
    "## Class shape\n",
    "## Rectangle class and Circle class from shape class \n"
   ]
  },
  {
   "cell_type": "code",
   "execution_count": 58,
   "metadata": {},
   "outputs": [],
   "source": [
    "\n",
    "class Shape:\n",
    "  def __init__(self,color = \"black\",filled = \"false\"):\n",
    "    self.__color__ = color\n",
    "    self.__filled__ = filled\n",
    "\n",
    "  def get_color(self):\n",
    "    return self.__color__\n",
    "  \n",
    "  def set_color(self,color):\n",
    "    self.__color__ = color\n",
    "  \n",
    "  def get_filled(self):\n",
    "    return self.__filled__\n",
    "  \n",
    "  def set_filled(self,filled):\n",
    "    self.__filled__ = filled\n",
    "  \n",
    "\n"
   ]
  },
  {
   "cell_type": "code",
   "execution_count": 35,
   "metadata": {},
   "outputs": [],
   "source": [
    "class Rectangle(Shape):\n",
    "  def __init__(self,length,bredth):\n",
    "    super().__init__()\n",
    "    self.__length__ = length\n",
    "    self.__bredth__ = bredth\n",
    "  \n",
    "  def get_length(self):\n",
    "    return self.__length__\n",
    "  \n",
    "  def set_length(self,length):\n",
    "    self.__length__ = length\n",
    "  \n",
    "  def get_bredth(self):\n",
    "    return self.__bredth__\n",
    "  \n",
    "  def set_bredth(self,bredth):\n",
    "    self.__bredth__ = bredth\n",
    "  \n",
    "  def get_area(self):\n",
    "    return self.__length__ * self.__bredth__\n",
    "  "
   ]
  },
  {
   "cell_type": "code",
   "execution_count": 36,
   "metadata": {},
   "outputs": [],
   "source": [
    "import math"
   ]
  },
  {
   "cell_type": "code",
   "execution_count": 42,
   "metadata": {},
   "outputs": [],
   "source": [
    "class Circle(Shape):\n",
    "  def __init__(self,radius):\n",
    "    super().__init__()\n",
    "    self.__radius__ = radius\n",
    "  \n",
    "  def set_radius(self,radius):\n",
    "    self.__radius__ = radius\n",
    "  \n",
    "  def get_radius(self):\n",
    "    return self.__radius_\n",
    "  \n",
    "  def get_area(self):\n",
    "    return self.__radius__* self.__radius__ * math.pi\n",
    "  \n",
    "  "
   ]
  },
  {
   "cell_type": "code",
   "execution_count": 50,
   "metadata": {},
   "outputs": [],
   "source": [
    "r1 = Rectangle(10,20)"
   ]
  },
  {
   "cell_type": "code",
   "execution_count": 61,
   "metadata": {},
   "outputs": [
    {
     "data": {
      "text/plain": [
       "'false'"
      ]
     },
     "execution_count": 61,
     "metadata": {},
     "output_type": "execute_result"
    }
   ],
   "source": [
    "r1.get_filled()"
   ]
  },
  {
   "cell_type": "code",
   "execution_count": 62,
   "metadata": {},
   "outputs": [],
   "source": [
    "r1.set_filled(\"True\")"
   ]
  },
  {
   "cell_type": "code",
   "execution_count": 63,
   "metadata": {},
   "outputs": [
    {
     "data": {
      "text/plain": [
       "'True'"
      ]
     },
     "execution_count": 63,
     "metadata": {},
     "output_type": "execute_result"
    }
   ],
   "source": [
    "r1.get_filled()"
   ]
  },
  {
   "cell_type": "code",
   "execution_count": 51,
   "metadata": {},
   "outputs": [
    {
     "data": {
      "text/plain": [
       "__main__.Rectangle"
      ]
     },
     "execution_count": 51,
     "metadata": {},
     "output_type": "execute_result"
    }
   ],
   "source": [
    "type(r1)"
   ]
  },
  {
   "cell_type": "code",
   "execution_count": 59,
   "metadata": {},
   "outputs": [],
   "source": [
    "r1.set_color(\"orange\")"
   ]
  },
  {
   "cell_type": "code",
   "execution_count": 60,
   "metadata": {},
   "outputs": [
    {
     "data": {
      "text/plain": [
       "'orange'"
      ]
     },
     "execution_count": 60,
     "metadata": {},
     "output_type": "execute_result"
    }
   ],
   "source": [
    "r1.get_color()"
   ]
  },
  {
   "cell_type": "code",
   "execution_count": 40,
   "metadata": {},
   "outputs": [
    {
     "data": {
      "text/plain": [
       "200"
      ]
     },
     "execution_count": 40,
     "metadata": {},
     "output_type": "execute_result"
    }
   ],
   "source": [
    "r1.get_area()"
   ]
  },
  {
   "cell_type": "code",
   "execution_count": 47,
   "metadata": {},
   "outputs": [
    {
     "data": {
      "text/plain": [
       "'black'"
      ]
     },
     "execution_count": 47,
     "metadata": {},
     "output_type": "execute_result"
    }
   ],
   "source": [
    "r1.get_color()"
   ]
  },
  {
   "cell_type": "code",
   "execution_count": 44,
   "metadata": {},
   "outputs": [],
   "source": [
    "c1 = Circle(100)"
   ]
  },
  {
   "cell_type": "code",
   "execution_count": 45,
   "metadata": {},
   "outputs": [
    {
     "data": {
      "text/plain": [
       "31415.926535897932"
      ]
     },
     "execution_count": 45,
     "metadata": {},
     "output_type": "execute_result"
    }
   ],
   "source": [
    "c1.get_area()"
   ]
  },
  {
   "cell_type": "code",
   "execution_count": null,
   "metadata": {},
   "outputs": [],
   "source": []
  }
 ],
 "metadata": {
  "kernelspec": {
   "display_name": "Python 3",
   "language": "python",
   "name": "python3"
  },
  "language_info": {
   "codemirror_mode": {
    "name": "ipython",
    "version": 3
   },
   "file_extension": ".py",
   "mimetype": "text/x-python",
   "name": "python",
   "nbconvert_exporter": "python",
   "pygments_lexer": "ipython3",
   "version": "3.12.0"
  }
 },
 "nbformat": 4,
 "nbformat_minor": 2
}
