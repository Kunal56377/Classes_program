{
 "cells": [
  {
   "cell_type": "code",
   "execution_count": null,
   "metadata": {},
   "outputs": [],
   "source": [
    "# Class Create a user definded data structure \n",
    "# Class holdes its own data members and member Functions\n",
    "# Class is like blueprint for an object "
   ]
  },
  {
   "cell_type": "code",
   "execution_count": 1,
   "metadata": {},
   "outputs": [],
   "source": [
    "### Key Points\n",
    "\n",
    "# 1) Classes created by using class keyword\n",
    "# 2) Memebers and atttibutes  are the variables that belong to a class \n",
    "# 3) These variables can be Public, Private or Protected \n"
   ]
  },
  {
   "cell_type": "code",
   "execution_count": 10,
   "metadata": {},
   "outputs": [],
   "source": [
    "class person():\n",
    "\n",
    "  # Constructor \n",
    "  def __init__(self,name_par,surname_parm):\n",
    "    self.name = name_par   # Members \n",
    "    self.surname = surname_parm # Members \n",
    "\n",
    "  \n",
    "  def printf(self):  # Memeber Function \n",
    "    print(\"My name is {} {}\".format(self.name,self.surname))"
   ]
  },
  {
   "cell_type": "code",
   "execution_count": 11,
   "metadata": {},
   "outputs": [],
   "source": [
    "per  = person(\"Kunal\",\"Mugalkhod\")   # Object creation "
   ]
  },
  {
   "cell_type": "markdown",
   "metadata": {},
   "source": []
  },
  {
   "cell_type": "code",
   "execution_count": 12,
   "metadata": {},
   "outputs": [
    {
     "name": "stdout",
     "output_type": "stream",
     "text": [
      "My name is Kunal Mugalkhod\n"
     ]
    }
   ],
   "source": [
    "per.printf()"
   ]
  },
  {
   "cell_type": "code",
   "execution_count": 26,
   "metadata": {},
   "outputs": [],
   "source": [
    "## Access Modifier,  Public, Private and then Protected "
   ]
  },
  {
   "cell_type": "code",
   "execution_count": 56,
   "metadata": {},
   "outputs": [],
   "source": [
    "class calcultor():\n",
    "  def __init__(self,operand1,operand2):\n",
    "    self.__result = 0\n",
    "    self.__operand1 = operand1 \n",
    "    self.__operand2 = operand2\n",
    "  \n",
    "  def addtion(self):\n",
    "    self.__result = self.__operand1 + self.__operand2\n",
    "    return self.__result\n",
    "\n",
    "  def substraction(self):\n",
    "    self.__result = self.__operand1 - self.__operand2\n",
    "    return self.__result\n",
    "  \n",
    "  def multiplication(self):\n",
    "    self.__result = self.__operand1 * self.__operand2\n",
    "    return self.__result\n",
    "  \n",
    "  def division(self):\n",
    "    self.__result = self.__operand1/self.__operand2\n",
    "    return self.__result"
   ]
  },
  {
   "cell_type": "code",
   "execution_count": 47,
   "metadata": {},
   "outputs": [
    {
     "name": "stdout",
     "output_type": "stream",
     "text": [
      "11\n"
     ]
    }
   ],
   "source": [
    "no1 = int(input(\"Enter the number \"))\n",
    "no2 = int(input(\"Enter the number \"))\n",
    "c = calcultor(no1,no2)\n",
    "print(c.addtion())"
   ]
  },
  {
   "cell_type": "code",
   "execution_count": 57,
   "metadata": {},
   "outputs": [],
   "source": [
    "c = calcultor(7,8)"
   ]
  },
  {
   "cell_type": "code",
   "execution_count": 72,
   "metadata": {},
   "outputs": [],
   "source": [
    "class Votingmachine():\n",
    "\n",
    "  def __init__(self,list_parties): \n",
    "    self.VotingmachineDashboard = {}\n",
    "    for party in list_parties:\n",
    "      self.VotingmachineDashboard[party] = 0 \n",
    "  \n",
    "  def cast_vote(self,party):\n",
    "    self.VotingmachineDashboard[party] = self.VotingmachineDashboard[party] + 1\n",
    "  \n",
    "  def print_result(self):\n",
    "    for key in self.VotingmachineDashboard:\n",
    "      print(\"Party : {} -- Votes : {}\".format(key, self.VotingmachineDashboard[key]))"
   ]
  },
  {
   "cell_type": "code",
   "execution_count": 73,
   "metadata": {},
   "outputs": [],
   "source": [
    "v = Votingmachine([\"bjp\",\"congress\",\"jdu\"])"
   ]
  },
  {
   "cell_type": "code",
   "execution_count": 81,
   "metadata": {},
   "outputs": [],
   "source": [
    "v.cast_vote(\"bjp\")"
   ]
  },
  {
   "cell_type": "code",
   "execution_count": 79,
   "metadata": {},
   "outputs": [],
   "source": [
    "v.cast_vote(\"congress\")"
   ]
  },
  {
   "cell_type": "code",
   "execution_count": 77,
   "metadata": {},
   "outputs": [],
   "source": [
    "v.cast_vote(\"jdu\")"
   ]
  },
  {
   "cell_type": "code",
   "execution_count": 82,
   "metadata": {},
   "outputs": [
    {
     "name": "stdout",
     "output_type": "stream",
     "text": [
      "Party : bjp -- Votes : 2\n",
      "Party : congress -- Votes : 2\n",
      "Party : jdu -- Votes : 1\n"
     ]
    }
   ],
   "source": [
    "v.print_result()"
   ]
  },
  {
   "cell_type": "code",
   "execution_count": 83,
   "metadata": {},
   "outputs": [],
   "source": [
    "# Inhertiance \n",
    "# Polymorphisum"
   ]
  },
  {
   "cell_type": "code",
   "execution_count": null,
   "metadata": {},
   "outputs": [],
   "source": []
  }
 ],
 "metadata": {
  "kernelspec": {
   "display_name": "Python 3",
   "language": "python",
   "name": "python3"
  },
  "language_info": {
   "codemirror_mode": {
    "name": "ipython",
    "version": 3
   },
   "file_extension": ".py",
   "mimetype": "text/x-python",
   "name": "python",
   "nbconvert_exporter": "python",
   "pygments_lexer": "ipython3",
   "version": "3.12.0"
  }
 },
 "nbformat": 4,
 "nbformat_minor": 2
}
