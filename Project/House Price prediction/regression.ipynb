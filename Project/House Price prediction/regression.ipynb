{
 "cells": [
  {
   "cell_type": "code",
   "execution_count": 34,
   "metadata": {},
   "outputs": [],
   "source": [
    "import pandas as pd\n",
    "from sklearn.model_selection import train_test_split\n",
    "import seaborn as sns"
   ]
  },
  {
   "cell_type": "code",
   "execution_count": 35,
   "metadata": {},
   "outputs": [],
   "source": [
    "df = pd.read_csv(\"regressiondata.csv\")"
   ]
  },
  {
   "cell_type": "code",
   "execution_count": 36,
   "metadata": {},
   "outputs": [
    {
     "data": {
      "text/html": [
       "<div>\n",
       "<style scoped>\n",
       "    .dataframe tbody tr th:only-of-type {\n",
       "        vertical-align: middle;\n",
       "    }\n",
       "\n",
       "    .dataframe tbody tr th {\n",
       "        vertical-align: top;\n",
       "    }\n",
       "\n",
       "    .dataframe thead th {\n",
       "        text-align: right;\n",
       "    }\n",
       "</style>\n",
       "<table border=\"1\" class=\"dataframe\">\n",
       "  <thead>\n",
       "    <tr style=\"text-align: right;\">\n",
       "      <th></th>\n",
       "      <th>ID</th>\n",
       "      <th>TransactionDate</th>\n",
       "      <th>HouseAge</th>\n",
       "      <th>DistanceToStation</th>\n",
       "      <th>NumberOfPubs</th>\n",
       "      <th>PostCode</th>\n",
       "      <th>HousePrice</th>\n",
       "    </tr>\n",
       "  </thead>\n",
       "  <tbody>\n",
       "    <tr>\n",
       "      <th>0</th>\n",
       "      <td>0</td>\n",
       "      <td>2020.12</td>\n",
       "      <td>17.0</td>\n",
       "      <td>467.644775</td>\n",
       "      <td>4.0</td>\n",
       "      <td>5222.0</td>\n",
       "      <td>467104</td>\n",
       "    </tr>\n",
       "    <tr>\n",
       "      <th>1</th>\n",
       "      <td>1</td>\n",
       "      <td>2021.04</td>\n",
       "      <td>36.0</td>\n",
       "      <td>659.924963</td>\n",
       "      <td>3.0</td>\n",
       "      <td>5222.0</td>\n",
       "      <td>547714</td>\n",
       "    </tr>\n",
       "    <tr>\n",
       "      <th>2</th>\n",
       "      <td>2</td>\n",
       "      <td>2019.04</td>\n",
       "      <td>38.0</td>\n",
       "      <td>305.475941</td>\n",
       "      <td>7.0</td>\n",
       "      <td>5213.0</td>\n",
       "      <td>277232</td>\n",
       "    </tr>\n",
       "    <tr>\n",
       "      <th>3</th>\n",
       "      <td>3</td>\n",
       "      <td>2021.10</td>\n",
       "      <td>11.0</td>\n",
       "      <td>607.034754</td>\n",
       "      <td>5.0</td>\n",
       "      <td>5213.0</td>\n",
       "      <td>295958</td>\n",
       "    </tr>\n",
       "    <tr>\n",
       "      <th>4</th>\n",
       "      <td>4</td>\n",
       "      <td>2021.02</td>\n",
       "      <td>14.0</td>\n",
       "      <td>378.827222</td>\n",
       "      <td>5.0</td>\n",
       "      <td>5614.0</td>\n",
       "      <td>439963</td>\n",
       "    </tr>\n",
       "  </tbody>\n",
       "</table>\n",
       "</div>"
      ],
      "text/plain": [
       "   ID  TransactionDate  HouseAge  DistanceToStation  NumberOfPubs  PostCode  \\\n",
       "0   0          2020.12      17.0         467.644775           4.0    5222.0   \n",
       "1   1          2021.04      36.0         659.924963           3.0    5222.0   \n",
       "2   2          2019.04      38.0         305.475941           7.0    5213.0   \n",
       "3   3          2021.10      11.0         607.034754           5.0    5213.0   \n",
       "4   4          2021.02      14.0         378.827222           5.0    5614.0   \n",
       "\n",
       "  HousePrice  \n",
       "0     467104  \n",
       "1     547714  \n",
       "2     277232  \n",
       "3     295958  \n",
       "4     439963  "
      ]
     },
     "execution_count": 36,
     "metadata": {},
     "output_type": "execute_result"
    }
   ],
   "source": [
    "df.head()"
   ]
  },
  {
   "cell_type": "code",
   "execution_count": 37,
   "metadata": {},
   "outputs": [
    {
     "data": {
      "text/html": [
       "<div>\n",
       "<style scoped>\n",
       "    .dataframe tbody tr th:only-of-type {\n",
       "        vertical-align: middle;\n",
       "    }\n",
       "\n",
       "    .dataframe tbody tr th {\n",
       "        vertical-align: top;\n",
       "    }\n",
       "\n",
       "    .dataframe thead th {\n",
       "        text-align: right;\n",
       "    }\n",
       "</style>\n",
       "<table border=\"1\" class=\"dataframe\">\n",
       "  <thead>\n",
       "    <tr style=\"text-align: right;\">\n",
       "      <th></th>\n",
       "      <th>ID</th>\n",
       "      <th>TransactionDate</th>\n",
       "      <th>HouseAge</th>\n",
       "      <th>DistanceToStation</th>\n",
       "      <th>NumberOfPubs</th>\n",
       "      <th>PostCode</th>\n",
       "      <th>HousePrice</th>\n",
       "    </tr>\n",
       "  </thead>\n",
       "  <tbody>\n",
       "    <tr>\n",
       "      <th>9351</th>\n",
       "      <td>9351</td>\n",
       "      <td>2019.07</td>\n",
       "      <td>36.0</td>\n",
       "      <td>554.324820</td>\n",
       "      <td>3.0</td>\n",
       "      <td>5217.0</td>\n",
       "      <td>420246</td>\n",
       "    </tr>\n",
       "    <tr>\n",
       "      <th>9352</th>\n",
       "      <td>9352</td>\n",
       "      <td>2021.02</td>\n",
       "      <td>21.0</td>\n",
       "      <td>2296.349397</td>\n",
       "      <td>4.0</td>\n",
       "      <td>5614.0</td>\n",
       "      <td>256087</td>\n",
       "    </tr>\n",
       "    <tr>\n",
       "      <th>9353</th>\n",
       "      <td>9353</td>\n",
       "      <td>2020.11</td>\n",
       "      <td>18.0</td>\n",
       "      <td>856.174897</td>\n",
       "      <td>0.0</td>\n",
       "      <td>5614.0</td>\n",
       "      <td>257663</td>\n",
       "    </tr>\n",
       "    <tr>\n",
       "      <th>9354</th>\n",
       "      <td>9354</td>\n",
       "      <td>2021.10</td>\n",
       "      <td>6.0</td>\n",
       "      <td>87.260667</td>\n",
       "      <td>9.0</td>\n",
       "      <td>5614.0</td>\n",
       "      <td>681072</td>\n",
       "    </tr>\n",
       "    <tr>\n",
       "      <th>9355</th>\n",
       "      <td>9355</td>\n",
       "      <td>2020.12</td>\n",
       "      <td>20.0</td>\n",
       "      <td>584.007146</td>\n",
       "      <td>4.0</td>\n",
       "      <td>5614.0</td>\n",
       "      <td>403096</td>\n",
       "    </tr>\n",
       "  </tbody>\n",
       "</table>\n",
       "</div>"
      ],
      "text/plain": [
       "        ID  TransactionDate  HouseAge  DistanceToStation  NumberOfPubs  \\\n",
       "9351  9351          2019.07      36.0         554.324820           3.0   \n",
       "9352  9352          2021.02      21.0        2296.349397           4.0   \n",
       "9353  9353          2020.11      18.0         856.174897           0.0   \n",
       "9354  9354          2021.10       6.0          87.260667           9.0   \n",
       "9355  9355          2020.12      20.0         584.007146           4.0   \n",
       "\n",
       "      PostCode HousePrice  \n",
       "9351    5217.0     420246  \n",
       "9352    5614.0     256087  \n",
       "9353    5614.0     257663  \n",
       "9354    5614.0     681072  \n",
       "9355    5614.0     403096  "
      ]
     },
     "execution_count": 37,
     "metadata": {},
     "output_type": "execute_result"
    }
   ],
   "source": [
    "df.tail()"
   ]
  },
  {
   "cell_type": "code",
   "execution_count": 38,
   "metadata": {},
   "outputs": [
    {
     "data": {
      "text/plain": [
       "9356"
      ]
     },
     "execution_count": 38,
     "metadata": {},
     "output_type": "execute_result"
    }
   ],
   "source": [
    "len(df)"
   ]
  },
  {
   "cell_type": "markdown",
   "metadata": {},
   "source": [
    "# Split the Data into traing and testing Data\n",
    "\n",
    "Traning Data = Will use this data to train model.\n",
    "\n",
    "Test Data = Will use this data to test model\n"
   ]
  },
  {
   "cell_type": "code",
   "execution_count": 39,
   "metadata": {},
   "outputs": [],
   "source": [
    "train,test =train_test_split(df,test_size=0.3,random_state=1234)"
   ]
  },
  {
   "cell_type": "code",
   "execution_count": 40,
   "metadata": {},
   "outputs": [
    {
     "data": {
      "text/html": [
       "<div>\n",
       "<style scoped>\n",
       "    .dataframe tbody tr th:only-of-type {\n",
       "        vertical-align: middle;\n",
       "    }\n",
       "\n",
       "    .dataframe tbody tr th {\n",
       "        vertical-align: top;\n",
       "    }\n",
       "\n",
       "    .dataframe thead th {\n",
       "        text-align: right;\n",
       "    }\n",
       "</style>\n",
       "<table border=\"1\" class=\"dataframe\">\n",
       "  <thead>\n",
       "    <tr style=\"text-align: right;\">\n",
       "      <th></th>\n",
       "      <th>ID</th>\n",
       "      <th>TransactionDate</th>\n",
       "      <th>HouseAge</th>\n",
       "      <th>DistanceToStation</th>\n",
       "      <th>NumberOfPubs</th>\n",
       "      <th>PostCode</th>\n",
       "      <th>HousePrice</th>\n",
       "    </tr>\n",
       "  </thead>\n",
       "  <tbody>\n",
       "    <tr>\n",
       "      <th>8450</th>\n",
       "      <td>8450</td>\n",
       "      <td>2021.02</td>\n",
       "      <td>34.0</td>\n",
       "      <td>460.994365</td>\n",
       "      <td>8.0</td>\n",
       "      <td>5614.0</td>\n",
       "      <td>460286</td>\n",
       "    </tr>\n",
       "    <tr>\n",
       "      <th>5758</th>\n",
       "      <td>5758</td>\n",
       "      <td>2020.01</td>\n",
       "      <td>17.0</td>\n",
       "      <td>614.851833</td>\n",
       "      <td>3.0</td>\n",
       "      <td>5213.0</td>\n",
       "      <td>253332</td>\n",
       "    </tr>\n",
       "    <tr>\n",
       "      <th>4030</th>\n",
       "      <td>4030</td>\n",
       "      <td>2021.06</td>\n",
       "      <td>34.0</td>\n",
       "      <td>285.892687</td>\n",
       "      <td>9.0</td>\n",
       "      <td>5614.0</td>\n",
       "      <td>486532</td>\n",
       "    </tr>\n",
       "    <tr>\n",
       "      <th>8447</th>\n",
       "      <td>8447</td>\n",
       "      <td>2020.12</td>\n",
       "      <td>0.0</td>\n",
       "      <td>195.213314</td>\n",
       "      <td>6.0</td>\n",
       "      <td>5222.0</td>\n",
       "      <td>595168</td>\n",
       "    </tr>\n",
       "    <tr>\n",
       "      <th>4370</th>\n",
       "      <td>4370</td>\n",
       "      <td>2019.03</td>\n",
       "      <td>34.0</td>\n",
       "      <td>124.082230</td>\n",
       "      <td>8.0</td>\n",
       "      <td>5212.0</td>\n",
       "      <td>250495</td>\n",
       "    </tr>\n",
       "  </tbody>\n",
       "</table>\n",
       "</div>"
      ],
      "text/plain": [
       "        ID  TransactionDate  HouseAge  DistanceToStation  NumberOfPubs  \\\n",
       "8450  8450          2021.02      34.0         460.994365           8.0   \n",
       "5758  5758          2020.01      17.0         614.851833           3.0   \n",
       "4030  4030          2021.06      34.0         285.892687           9.0   \n",
       "8447  8447          2020.12       0.0         195.213314           6.0   \n",
       "4370  4370          2019.03      34.0         124.082230           8.0   \n",
       "\n",
       "      PostCode HousePrice  \n",
       "8450    5614.0     460286  \n",
       "5758    5213.0     253332  \n",
       "4030    5614.0     486532  \n",
       "8447    5222.0     595168  \n",
       "4370    5212.0     250495  "
      ]
     },
     "execution_count": 40,
     "metadata": {},
     "output_type": "execute_result"
    }
   ],
   "source": [
    "train.head()"
   ]
  },
  {
   "cell_type": "code",
   "execution_count": 41,
   "metadata": {},
   "outputs": [
    {
     "data": {
      "text/html": [
       "<div>\n",
       "<style scoped>\n",
       "    .dataframe tbody tr th:only-of-type {\n",
       "        vertical-align: middle;\n",
       "    }\n",
       "\n",
       "    .dataframe tbody tr th {\n",
       "        vertical-align: top;\n",
       "    }\n",
       "\n",
       "    .dataframe thead th {\n",
       "        text-align: right;\n",
       "    }\n",
       "</style>\n",
       "<table border=\"1\" class=\"dataframe\">\n",
       "  <thead>\n",
       "    <tr style=\"text-align: right;\">\n",
       "      <th></th>\n",
       "      <th>ID</th>\n",
       "      <th>TransactionDate</th>\n",
       "      <th>HouseAge</th>\n",
       "      <th>DistanceToStation</th>\n",
       "      <th>NumberOfPubs</th>\n",
       "      <th>PostCode</th>\n",
       "      <th>HousePrice</th>\n",
       "    </tr>\n",
       "  </thead>\n",
       "  <tbody>\n",
       "    <tr>\n",
       "      <th>7857</th>\n",
       "      <td>7857</td>\n",
       "      <td>2021.11</td>\n",
       "      <td>0.0</td>\n",
       "      <td>267.000535</td>\n",
       "      <td>6.0</td>\n",
       "      <td>5222.0</td>\n",
       "      <td>919497</td>\n",
       "    </tr>\n",
       "    <tr>\n",
       "      <th>1641</th>\n",
       "      <td>1641</td>\n",
       "      <td>2021.04</td>\n",
       "      <td>12.0</td>\n",
       "      <td>500.080510</td>\n",
       "      <td>5.0</td>\n",
       "      <td>5212.0</td>\n",
       "      <td>283680</td>\n",
       "    </tr>\n",
       "    <tr>\n",
       "      <th>3620</th>\n",
       "      <td>3620</td>\n",
       "      <td>2019.07</td>\n",
       "      <td>14.0</td>\n",
       "      <td>4024.663391</td>\n",
       "      <td>0.0</td>\n",
       "      <td>5614.0</td>\n",
       "      <td>135818</td>\n",
       "    </tr>\n",
       "    <tr>\n",
       "      <th>2820</th>\n",
       "      <td>2820</td>\n",
       "      <td>2020.09</td>\n",
       "      <td>18.0</td>\n",
       "      <td>568.954185</td>\n",
       "      <td>4.0</td>\n",
       "      <td>5614.0</td>\n",
       "      <td>468742</td>\n",
       "    </tr>\n",
       "    <tr>\n",
       "      <th>1572</th>\n",
       "      <td>1572</td>\n",
       "      <td>2020.07</td>\n",
       "      <td>11.0</td>\n",
       "      <td>44.210016</td>\n",
       "      <td>1.0</td>\n",
       "      <td>5614.0</td>\n",
       "      <td>311065</td>\n",
       "    </tr>\n",
       "  </tbody>\n",
       "</table>\n",
       "</div>"
      ],
      "text/plain": [
       "        ID  TransactionDate  HouseAge  DistanceToStation  NumberOfPubs  \\\n",
       "7857  7857          2021.11       0.0         267.000535           6.0   \n",
       "1641  1641          2021.04      12.0         500.080510           5.0   \n",
       "3620  3620          2019.07      14.0        4024.663391           0.0   \n",
       "2820  2820          2020.09      18.0         568.954185           4.0   \n",
       "1572  1572          2020.07      11.0          44.210016           1.0   \n",
       "\n",
       "      PostCode HousePrice  \n",
       "7857    5222.0     919497  \n",
       "1641    5212.0     283680  \n",
       "3620    5614.0     135818  \n",
       "2820    5614.0     468742  \n",
       "1572    5614.0     311065  "
      ]
     },
     "execution_count": 41,
     "metadata": {},
     "output_type": "execute_result"
    }
   ],
   "source": [
    "test.head()"
   ]
  },
  {
   "cell_type": "code",
   "execution_count": 42,
   "metadata": {},
   "outputs": [],
   "source": [
    "## EXplorartory Data Analysis"
   ]
  },
  {
   "cell_type": "code",
   "execution_count": 43,
   "metadata": {},
   "outputs": [
    {
     "data": {
      "text/plain": [
       "ID                     int64\n",
       "TransactionDate      float64\n",
       "HouseAge             float64\n",
       "DistanceToStation    float64\n",
       "NumberOfPubs         float64\n",
       "PostCode             float64\n",
       "HousePrice            object\n",
       "dtype: object"
      ]
     },
     "execution_count": 43,
     "metadata": {},
     "output_type": "execute_result"
    }
   ],
   "source": [
    "train.dtypes"
   ]
  },
  {
   "cell_type": "code",
   "execution_count": 44,
   "metadata": {},
   "outputs": [
    {
     "name": "stdout",
     "output_type": "stream",
     "text": [
      "<class 'pandas.core.frame.DataFrame'>\n",
      "Index: 6549 entries, 8450 to 8915\n",
      "Data columns (total 7 columns):\n",
      " #   Column             Non-Null Count  Dtype  \n",
      "---  ------             --------------  -----  \n",
      " 0   ID                 6549 non-null   int64  \n",
      " 1   TransactionDate    6548 non-null   float64\n",
      " 2   HouseAge           6546 non-null   float64\n",
      " 3   DistanceToStation  6547 non-null   float64\n",
      " 4   NumberOfPubs       6547 non-null   float64\n",
      " 5   PostCode           6547 non-null   float64\n",
      " 6   HousePrice         6544 non-null   object \n",
      "dtypes: float64(5), int64(1), object(1)\n",
      "memory usage: 409.3+ KB\n"
     ]
    }
   ],
   "source": [
    "train.info()"
   ]
  },
  {
   "cell_type": "code",
   "execution_count": 45,
   "metadata": {},
   "outputs": [
    {
     "data": {
      "text/html": [
       "<div>\n",
       "<style scoped>\n",
       "    .dataframe tbody tr th:only-of-type {\n",
       "        vertical-align: middle;\n",
       "    }\n",
       "\n",
       "    .dataframe tbody tr th {\n",
       "        vertical-align: top;\n",
       "    }\n",
       "\n",
       "    .dataframe thead th {\n",
       "        text-align: right;\n",
       "    }\n",
       "</style>\n",
       "<table border=\"1\" class=\"dataframe\">\n",
       "  <thead>\n",
       "    <tr style=\"text-align: right;\">\n",
       "      <th></th>\n",
       "      <th>ID</th>\n",
       "      <th>TransactionDate</th>\n",
       "      <th>HouseAge</th>\n",
       "      <th>DistanceToStation</th>\n",
       "      <th>NumberOfPubs</th>\n",
       "      <th>PostCode</th>\n",
       "    </tr>\n",
       "  </thead>\n",
       "  <tbody>\n",
       "    <tr>\n",
       "      <th>count</th>\n",
       "      <td>6549.000000</td>\n",
       "      <td>6548.000000</td>\n",
       "      <td>6546.000000</td>\n",
       "      <td>6547.000000</td>\n",
       "      <td>6.547000e+03</td>\n",
       "      <td>6547.000000</td>\n",
       "    </tr>\n",
       "    <tr>\n",
       "      <th>mean</th>\n",
       "      <td>4679.556268</td>\n",
       "      <td>2020.072389</td>\n",
       "      <td>17.375344</td>\n",
       "      <td>1091.759504</td>\n",
       "      <td>7.677828e+02</td>\n",
       "      <td>5294.499160</td>\n",
       "    </tr>\n",
       "    <tr>\n",
       "      <th>std</th>\n",
       "      <td>2702.123924</td>\n",
       "      <td>0.815922</td>\n",
       "      <td>11.469272</td>\n",
       "      <td>1270.038426</td>\n",
       "      <td>6.179430e+04</td>\n",
       "      <td>158.397718</td>\n",
       "    </tr>\n",
       "    <tr>\n",
       "      <th>min</th>\n",
       "      <td>3.000000</td>\n",
       "      <td>2019.010000</td>\n",
       "      <td>0.000000</td>\n",
       "      <td>23.829424</td>\n",
       "      <td>0.000000e+00</td>\n",
       "      <td>5212.000000</td>\n",
       "    </tr>\n",
       "    <tr>\n",
       "      <th>25%</th>\n",
       "      <td>2373.000000</td>\n",
       "      <td>2019.100000</td>\n",
       "      <td>9.000000</td>\n",
       "      <td>268.649033</td>\n",
       "      <td>1.000000e+00</td>\n",
       "      <td>5213.000000</td>\n",
       "    </tr>\n",
       "    <tr>\n",
       "      <th>50%</th>\n",
       "      <td>4678.000000</td>\n",
       "      <td>2020.070000</td>\n",
       "      <td>15.000000</td>\n",
       "      <td>545.312168</td>\n",
       "      <td>4.000000e+00</td>\n",
       "      <td>5217.000000</td>\n",
       "    </tr>\n",
       "    <tr>\n",
       "      <th>75%</th>\n",
       "      <td>7025.000000</td>\n",
       "      <td>2021.040000</td>\n",
       "      <td>28.000000</td>\n",
       "      <td>1529.343484</td>\n",
       "      <td>6.000000e+00</td>\n",
       "      <td>5222.000000</td>\n",
       "    </tr>\n",
       "    <tr>\n",
       "      <th>max</th>\n",
       "      <td>9355.000000</td>\n",
       "      <td>2021.120000</td>\n",
       "      <td>43.000000</td>\n",
       "      <td>6486.256457</td>\n",
       "      <td>4.999999e+06</td>\n",
       "      <td>5614.000000</td>\n",
       "    </tr>\n",
       "  </tbody>\n",
       "</table>\n",
       "</div>"
      ],
      "text/plain": [
       "                ID  TransactionDate     HouseAge  DistanceToStation  \\\n",
       "count  6549.000000      6548.000000  6546.000000        6547.000000   \n",
       "mean   4679.556268      2020.072389    17.375344        1091.759504   \n",
       "std    2702.123924         0.815922    11.469272        1270.038426   \n",
       "min       3.000000      2019.010000     0.000000          23.829424   \n",
       "25%    2373.000000      2019.100000     9.000000         268.649033   \n",
       "50%    4678.000000      2020.070000    15.000000         545.312168   \n",
       "75%    7025.000000      2021.040000    28.000000        1529.343484   \n",
       "max    9355.000000      2021.120000    43.000000        6486.256457   \n",
       "\n",
       "       NumberOfPubs     PostCode  \n",
       "count  6.547000e+03  6547.000000  \n",
       "mean   7.677828e+02  5294.499160  \n",
       "std    6.179430e+04   158.397718  \n",
       "min    0.000000e+00  5212.000000  \n",
       "25%    1.000000e+00  5213.000000  \n",
       "50%    4.000000e+00  5217.000000  \n",
       "75%    6.000000e+00  5222.000000  \n",
       "max    4.999999e+06  5614.000000  "
      ]
     },
     "execution_count": 45,
     "metadata": {},
     "output_type": "execute_result"
    }
   ],
   "source": [
    "train.describe()"
   ]
  },
  {
   "cell_type": "code",
   "execution_count": 46,
   "metadata": {},
   "outputs": [],
   "source": [
    "train[\"TransactionDate\"] = train[\"TransactionDate\"].astype(str)\n",
    "train[\"PostCode\"] = train[\"PostCode\"].astype(str)"
   ]
  },
  {
   "cell_type": "code",
   "execution_count": 47,
   "metadata": {},
   "outputs": [
    {
     "data": {
      "text/plain": [
       "ID                     int64\n",
       "TransactionDate       object\n",
       "HouseAge             float64\n",
       "DistanceToStation    float64\n",
       "NumberOfPubs         float64\n",
       "PostCode              object\n",
       "HousePrice            object\n",
       "dtype: object"
      ]
     },
     "execution_count": 47,
     "metadata": {},
     "output_type": "execute_result"
    }
   ],
   "source": [
    "train.dtypes"
   ]
  },
  {
   "cell_type": "code",
   "execution_count": 48,
   "metadata": {},
   "outputs": [
    {
     "data": {
      "text/html": [
       "<div>\n",
       "<style scoped>\n",
       "    .dataframe tbody tr th:only-of-type {\n",
       "        vertical-align: middle;\n",
       "    }\n",
       "\n",
       "    .dataframe tbody tr th {\n",
       "        vertical-align: top;\n",
       "    }\n",
       "\n",
       "    .dataframe thead th {\n",
       "        text-align: right;\n",
       "    }\n",
       "</style>\n",
       "<table border=\"1\" class=\"dataframe\">\n",
       "  <thead>\n",
       "    <tr style=\"text-align: right;\">\n",
       "      <th></th>\n",
       "      <th>TransactionDate</th>\n",
       "      <th>PostCode</th>\n",
       "      <th>HousePrice</th>\n",
       "    </tr>\n",
       "  </thead>\n",
       "  <tbody>\n",
       "    <tr>\n",
       "      <th>count</th>\n",
       "      <td>6549</td>\n",
       "      <td>6549</td>\n",
       "      <td>6544</td>\n",
       "    </tr>\n",
       "    <tr>\n",
       "      <th>unique</th>\n",
       "      <td>37</td>\n",
       "      <td>6</td>\n",
       "      <td>6496</td>\n",
       "    </tr>\n",
       "    <tr>\n",
       "      <th>top</th>\n",
       "      <td>2019.01</td>\n",
       "      <td>5212.0</td>\n",
       "      <td>290262</td>\n",
       "    </tr>\n",
       "    <tr>\n",
       "      <th>freq</th>\n",
       "      <td>212</td>\n",
       "      <td>1338</td>\n",
       "      <td>2</td>\n",
       "    </tr>\n",
       "  </tbody>\n",
       "</table>\n",
       "</div>"
      ],
      "text/plain": [
       "       TransactionDate PostCode HousePrice\n",
       "count             6549     6549       6544\n",
       "unique              37        6       6496\n",
       "top            2019.01   5212.0     290262\n",
       "freq               212     1338          2"
      ]
     },
     "execution_count": 48,
     "metadata": {},
     "output_type": "execute_result"
    }
   ],
   "source": [
    "train.describe(include='object')"
   ]
  },
  {
   "cell_type": "markdown",
   "metadata": {},
   "source": [
    "## Analyse Numerical Columns\n"
   ]
  },
  {
   "cell_type": "code",
   "execution_count": 49,
   "metadata": {},
   "outputs": [
    {
     "name": "stdout",
     "output_type": "stream",
     "text": [
      "<class 'pandas.core.frame.DataFrame'>\n",
      "Index: 6549 entries, 8450 to 8915\n",
      "Data columns (total 7 columns):\n",
      " #   Column             Non-Null Count  Dtype  \n",
      "---  ------             --------------  -----  \n",
      " 0   ID                 6549 non-null   int64  \n",
      " 1   TransactionDate    6549 non-null   object \n",
      " 2   HouseAge           6546 non-null   float64\n",
      " 3   DistanceToStation  6547 non-null   float64\n",
      " 4   NumberOfPubs       6547 non-null   float64\n",
      " 5   PostCode           6549 non-null   object \n",
      " 6   HousePrice         6544 non-null   object \n",
      "dtypes: float64(3), int64(1), object(3)\n",
      "memory usage: 409.3+ KB\n"
     ]
    }
   ],
   "source": [
    "train.info()"
   ]
  },
  {
   "cell_type": "code",
   "execution_count": 50,
   "metadata": {},
   "outputs": [
    {
     "data": {
      "text/plain": [
       "(6549, 7)"
      ]
     },
     "execution_count": 50,
     "metadata": {},
     "output_type": "execute_result"
    }
   ],
   "source": [
    "train.shape"
   ]
  },
  {
   "cell_type": "code",
   "execution_count": 51,
   "metadata": {},
   "outputs": [
    {
     "data": {
      "text/plain": [
       "array([[<Axes: title={'center': 'ID'}>,\n",
       "        <Axes: title={'center': 'HouseAge'}>],\n",
       "       [<Axes: title={'center': 'DistanceToStation'}>,\n",
       "        <Axes: title={'center': 'NumberOfPubs'}>]], dtype=object)"
      ]
     },
     "execution_count": 51,
     "metadata": {},
     "output_type": "execute_result"
    },
    {
     "data": {
      "image/png": "[encoded data removed]",
      "text/plain": [
       "<Figure size 1000x500 with 4 Axes>"
      ]
     },
     "metadata": {},
     "output_type": "display_data"
    }
   ],
   "source": [
    "#Plot distributions\n",
    "train.hist(figsize=(10,5),bins =60)"
   ]
  },
  {
   "cell_type": "code",
   "execution_count": 52,
   "metadata": {},
   "outputs": [
    {
     "ename": "ValueError",
     "evalue": "could not convert string to float: '??'",
     "output_type": "error",
     "traceback": [
      "\u001b[1;31m---------------------------------------------------------------------------\u001b[0m",
      "\u001b[1;31mValueError\u001b[0m                                Traceback (most recent call last)",
      "Cell \u001b[1;32mIn[52], line 1\u001b[0m\n\u001b[1;32m----> 1\u001b[0m \u001b[43mtrain\u001b[49m\u001b[43m[\u001b[49m\u001b[38;5;124;43m'\u001b[39;49m\u001b[38;5;124;43mHousePrice\u001b[39;49m\u001b[38;5;124;43m'\u001b[39;49m\u001b[43m]\u001b[49m\u001b[38;5;241;43m.\u001b[39;49m\u001b[43mastype\u001b[49m\u001b[43m(\u001b[49m\u001b[38;5;28;43mfloat\u001b[39;49m\u001b[43m)\u001b[49m\n",
      "File \u001b[1;32md:\\new_repo\\houseprediction\\Lib\\site-packages\\pandas\\core\\generic.py:6640\u001b[0m, in \u001b[0;36mNDFrame.astype\u001b[1;34m(self, dtype, copy, errors)\u001b[0m\n\u001b[0;32m   6634\u001b[0m     results \u001b[38;5;241m=\u001b[39m [\n\u001b[0;32m   6635\u001b[0m         ser\u001b[38;5;241m.\u001b[39mastype(dtype, copy\u001b[38;5;241m=\u001b[39mcopy, errors\u001b[38;5;241m=\u001b[39merrors) \u001b[38;5;28;01mfor\u001b[39;00m _, ser \u001b[38;5;129;01min\u001b[39;00m \u001b[38;5;28mself\u001b[39m\u001b[38;5;241m.\u001b[39mitems()\n\u001b[0;32m   6636\u001b[0m     ]\n\u001b[0;32m   6638\u001b[0m \u001b[38;5;28;01melse\u001b[39;00m:\n\u001b[0;32m   6639\u001b[0m     \u001b[38;5;66;03m# else, only a single dtype is given\u001b[39;00m\n\u001b[1;32m-> 6640\u001b[0m     new_data \u001b[38;5;241m=\u001b[39m \u001b[38;5;28;43mself\u001b[39;49m\u001b[38;5;241;43m.\u001b[39;49m\u001b[43m_mgr\u001b[49m\u001b[38;5;241;43m.\u001b[39;49m\u001b[43mastype\u001b[49m\u001b[43m(\u001b[49m\u001b[43mdtype\u001b[49m\u001b[38;5;241;43m=\u001b[39;49m\u001b[43mdtype\u001b[49m\u001b[43m,\u001b[49m\u001b[43m \u001b[49m\u001b[43mcopy\u001b[49m\u001b[38;5;241;43m=\u001b[39;49m\u001b[43mcopy\u001b[49m\u001b[43m,\u001b[49m\u001b[43m \u001b[49m\u001b[43merrors\u001b[49m\u001b[38;5;241;43m=\u001b[39;49m\u001b[43merrors\u001b[49m\u001b[43m)\u001b[49m\n\u001b[0;32m   6641\u001b[0m     res \u001b[38;5;241m=\u001b[39m \u001b[38;5;28mself\u001b[39m\u001b[38;5;241m.\u001b[39m_constructor_from_mgr(new_data, axes\u001b[38;5;241m=\u001b[39mnew_data\u001b[38;5;241m.\u001b[39maxes)\n\u001b[0;32m   6642\u001b[0m     \u001b[38;5;28;01mreturn\u001b[39;00m res\u001b[38;5;241m.\u001b[39m__finalize__(\u001b[38;5;28mself\u001b[39m, method\u001b[38;5;241m=\u001b[39m\u001b[38;5;124m\"\u001b[39m\u001b[38;5;124mastype\u001b[39m\u001b[38;5;124m\"\u001b[39m)\n",
      "File \u001b[1;32md:\\new_repo\\houseprediction\\Lib\\site-packages\\pandas\\core\\internals\\managers.py:430\u001b[0m, in \u001b[0;36mBaseBlockManager.astype\u001b[1;34m(self, dtype, copy, errors)\u001b[0m\n\u001b[0;32m    427\u001b[0m \u001b[38;5;28;01melif\u001b[39;00m using_copy_on_write():\n\u001b[0;32m    428\u001b[0m     copy \u001b[38;5;241m=\u001b[39m \u001b[38;5;28;01mFalse\u001b[39;00m\n\u001b[1;32m--> 430\u001b[0m \u001b[38;5;28;01mreturn\u001b[39;00m \u001b[38;5;28;43mself\u001b[39;49m\u001b[38;5;241;43m.\u001b[39;49m\u001b[43mapply\u001b[49m\u001b[43m(\u001b[49m\n\u001b[0;32m    431\u001b[0m \u001b[43m    \u001b[49m\u001b[38;5;124;43m\"\u001b[39;49m\u001b[38;5;124;43mastype\u001b[39;49m\u001b[38;5;124;43m\"\u001b[39;49m\u001b[43m,\u001b[49m\n\u001b[0;32m    432\u001b[0m \u001b[43m    \u001b[49m\u001b[43mdtype\u001b[49m\u001b[38;5;241;43m=\u001b[39;49m\u001b[43mdtype\u001b[49m\u001b[43m,\u001b[49m\n\u001b[0;32m    433\u001b[0m \u001b[43m    \u001b[49m\u001b[43mcopy\u001b[49m\u001b[38;5;241;43m=\u001b[39;49m\u001b[43mcopy\u001b[49m\u001b[43m,\u001b[49m\n\u001b[0;32m    434\u001b[0m \u001b[43m    \u001b[49m\u001b[43merrors\u001b[49m\u001b[38;5;241;43m=\u001b[39;49m\u001b[43merrors\u001b[49m\u001b[43m,\u001b[49m\n\u001b[0;32m    435\u001b[0m \u001b[43m    \u001b[49m\u001b[43musing_cow\u001b[49m\u001b[38;5;241;43m=\u001b[39;49m\u001b[43musing_copy_on_write\u001b[49m\u001b[43m(\u001b[49m\u001b[43m)\u001b[49m\u001b[43m,\u001b[49m\n\u001b[0;32m    436\u001b[0m \u001b[43m\u001b[49m\u001b[43m)\u001b[49m\n",
      "File \u001b[1;32md:\\new_repo\\houseprediction\\Lib\\site-packages\\pandas\\core\\internals\\managers.py:363\u001b[0m, in \u001b[0;36mBaseBlockManager.apply\u001b[1;34m(self, f, align_keys, **kwargs)\u001b[0m\n\u001b[0;32m    361\u001b[0m         applied \u001b[38;5;241m=\u001b[39m b\u001b[38;5;241m.\u001b[39mapply(f, \u001b[38;5;241m*\u001b[39m\u001b[38;5;241m*\u001b[39mkwargs)\n\u001b[0;32m    362\u001b[0m     \u001b[38;5;28;01melse\u001b[39;00m:\n\u001b[1;32m--> 363\u001b[0m         applied \u001b[38;5;241m=\u001b[39m \u001b[38;5;28;43mgetattr\u001b[39;49m\u001b[43m(\u001b[49m\u001b[43mb\u001b[49m\u001b[43m,\u001b[49m\u001b[43m \u001b[49m\u001b[43mf\u001b[49m\u001b[43m)\u001b[49m\u001b[43m(\u001b[49m\u001b[38;5;241;43m*\u001b[39;49m\u001b[38;5;241;43m*\u001b[39;49m\u001b[43mkwargs\u001b[49m\u001b[43m)\u001b[49m\n\u001b[0;32m    364\u001b[0m     result_blocks \u001b[38;5;241m=\u001b[39m extend_blocks(applied, result_blocks)\n\u001b[0;32m    366\u001b[0m out \u001b[38;5;241m=\u001b[39m \u001b[38;5;28mtype\u001b[39m(\u001b[38;5;28mself\u001b[39m)\u001b[38;5;241m.\u001b[39mfrom_blocks(result_blocks, \u001b[38;5;28mself\u001b[39m\u001b[38;5;241m.\u001b[39maxes)\n",
      "File \u001b[1;32md:\\new_repo\\houseprediction\\Lib\\site-packages\\pandas\\core\\internals\\blocks.py:758\u001b[0m, in \u001b[0;36mBlock.astype\u001b[1;34m(self, dtype, copy, errors, using_cow, squeeze)\u001b[0m\n\u001b[0;32m    755\u001b[0m         \u001b[38;5;28;01mraise\u001b[39;00m \u001b[38;5;167;01mValueError\u001b[39;00m(\u001b[38;5;124m\"\u001b[39m\u001b[38;5;124mCan not squeeze with more than one column.\u001b[39m\u001b[38;5;124m\"\u001b[39m)\n\u001b[0;32m    756\u001b[0m     values \u001b[38;5;241m=\u001b[39m values[\u001b[38;5;241m0\u001b[39m, :]  \u001b[38;5;66;03m# type: ignore[call-overload]\u001b[39;00m\n\u001b[1;32m--> 758\u001b[0m new_values \u001b[38;5;241m=\u001b[39m \u001b[43mastype_array_safe\u001b[49m\u001b[43m(\u001b[49m\u001b[43mvalues\u001b[49m\u001b[43m,\u001b[49m\u001b[43m \u001b[49m\u001b[43mdtype\u001b[49m\u001b[43m,\u001b[49m\u001b[43m \u001b[49m\u001b[43mcopy\u001b[49m\u001b[38;5;241;43m=\u001b[39;49m\u001b[43mcopy\u001b[49m\u001b[43m,\u001b[49m\u001b[43m \u001b[49m\u001b[43merrors\u001b[49m\u001b[38;5;241;43m=\u001b[39;49m\u001b[43merrors\u001b[49m\u001b[43m)\u001b[49m\n\u001b[0;32m    760\u001b[0m new_values \u001b[38;5;241m=\u001b[39m maybe_coerce_values(new_values)\n\u001b[0;32m    762\u001b[0m refs \u001b[38;5;241m=\u001b[39m \u001b[38;5;28;01mNone\u001b[39;00m\n",
      "File \u001b[1;32md:\\new_repo\\houseprediction\\Lib\\site-packages\\pandas\\core\\dtypes\\astype.py:237\u001b[0m, in \u001b[0;36mastype_array_safe\u001b[1;34m(values, dtype, copy, errors)\u001b[0m\n\u001b[0;32m    234\u001b[0m     dtype \u001b[38;5;241m=\u001b[39m dtype\u001b[38;5;241m.\u001b[39mnumpy_dtype\n\u001b[0;32m    236\u001b[0m \u001b[38;5;28;01mtry\u001b[39;00m:\n\u001b[1;32m--> 237\u001b[0m     new_values \u001b[38;5;241m=\u001b[39m \u001b[43mastype_array\u001b[49m\u001b[43m(\u001b[49m\u001b[43mvalues\u001b[49m\u001b[43m,\u001b[49m\u001b[43m \u001b[49m\u001b[43mdtype\u001b[49m\u001b[43m,\u001b[49m\u001b[43m \u001b[49m\u001b[43mcopy\u001b[49m\u001b[38;5;241;43m=\u001b[39;49m\u001b[43mcopy\u001b[49m\u001b[43m)\u001b[49m\n\u001b[0;32m    238\u001b[0m \u001b[38;5;28;01mexcept\u001b[39;00m (\u001b[38;5;167;01mValueError\u001b[39;00m, \u001b[38;5;167;01mTypeError\u001b[39;00m):\n\u001b[0;32m    239\u001b[0m     \u001b[38;5;66;03m# e.g. _astype_nansafe can fail on object-dtype of strings\u001b[39;00m\n\u001b[0;32m    240\u001b[0m     \u001b[38;5;66;03m#  trying to convert to float\u001b[39;00m\n\u001b[0;32m    241\u001b[0m     \u001b[38;5;28;01mif\u001b[39;00m errors \u001b[38;5;241m==\u001b[39m \u001b[38;5;124m\"\u001b[39m\u001b[38;5;124mignore\u001b[39m\u001b[38;5;124m\"\u001b[39m:\n",
      "File \u001b[1;32md:\\new_repo\\houseprediction\\Lib\\site-packages\\pandas\\core\\dtypes\\astype.py:182\u001b[0m, in \u001b[0;36mastype_array\u001b[1;34m(values, dtype, copy)\u001b[0m\n\u001b[0;32m    179\u001b[0m     values \u001b[38;5;241m=\u001b[39m values\u001b[38;5;241m.\u001b[39mastype(dtype, copy\u001b[38;5;241m=\u001b[39mcopy)\n\u001b[0;32m    181\u001b[0m \u001b[38;5;28;01melse\u001b[39;00m:\n\u001b[1;32m--> 182\u001b[0m     values \u001b[38;5;241m=\u001b[39m \u001b[43m_astype_nansafe\u001b[49m\u001b[43m(\u001b[49m\u001b[43mvalues\u001b[49m\u001b[43m,\u001b[49m\u001b[43m \u001b[49m\u001b[43mdtype\u001b[49m\u001b[43m,\u001b[49m\u001b[43m \u001b[49m\u001b[43mcopy\u001b[49m\u001b[38;5;241;43m=\u001b[39;49m\u001b[43mcopy\u001b[49m\u001b[43m)\u001b[49m\n\u001b[0;32m    184\u001b[0m \u001b[38;5;66;03m# in pandas we don't store numpy str dtypes, so convert to object\u001b[39;00m\n\u001b[0;32m    185\u001b[0m \u001b[38;5;28;01mif\u001b[39;00m \u001b[38;5;28misinstance\u001b[39m(dtype, np\u001b[38;5;241m.\u001b[39mdtype) \u001b[38;5;129;01mand\u001b[39;00m \u001b[38;5;28missubclass\u001b[39m(values\u001b[38;5;241m.\u001b[39mdtype\u001b[38;5;241m.\u001b[39mtype, \u001b[38;5;28mstr\u001b[39m):\n",
      "File \u001b[1;32md:\\new_repo\\houseprediction\\Lib\\site-packages\\pandas\\core\\dtypes\\astype.py:133\u001b[0m, in \u001b[0;36m_astype_nansafe\u001b[1;34m(arr, dtype, copy, skipna)\u001b[0m\n\u001b[0;32m    129\u001b[0m     \u001b[38;5;28;01mraise\u001b[39;00m \u001b[38;5;167;01mValueError\u001b[39;00m(msg)\n\u001b[0;32m    131\u001b[0m \u001b[38;5;28;01mif\u001b[39;00m copy \u001b[38;5;129;01mor\u001b[39;00m arr\u001b[38;5;241m.\u001b[39mdtype \u001b[38;5;241m==\u001b[39m \u001b[38;5;28mobject\u001b[39m \u001b[38;5;129;01mor\u001b[39;00m dtype \u001b[38;5;241m==\u001b[39m \u001b[38;5;28mobject\u001b[39m:\n\u001b[0;32m    132\u001b[0m     \u001b[38;5;66;03m# Explicit copy, or required since NumPy can't view from / to object.\u001b[39;00m\n\u001b[1;32m--> 133\u001b[0m     \u001b[38;5;28;01mreturn\u001b[39;00m \u001b[43marr\u001b[49m\u001b[38;5;241;43m.\u001b[39;49m\u001b[43mastype\u001b[49m\u001b[43m(\u001b[49m\u001b[43mdtype\u001b[49m\u001b[43m,\u001b[49m\u001b[43m \u001b[49m\u001b[43mcopy\u001b[49m\u001b[38;5;241;43m=\u001b[39;49m\u001b[38;5;28;43;01mTrue\u001b[39;49;00m\u001b[43m)\u001b[49m\n\u001b[0;32m    135\u001b[0m \u001b[38;5;28;01mreturn\u001b[39;00m arr\u001b[38;5;241m.\u001b[39mastype(dtype, copy\u001b[38;5;241m=\u001b[39mcopy)\n",
      "\u001b[1;31mValueError\u001b[0m: could not convert string to float: '??'"
     ]
    }
   ],
   "source": [
    "train['HousePrice'].astype(float)"
   ]
  },
  {
   "cell_type": "code",
   "execution_count": 53,
   "metadata": {},
   "outputs": [
    {
     "data": {
      "text/html": [
       "<div>\n",
       "<style scoped>\n",
       "    .dataframe tbody tr th:only-of-type {\n",
       "        vertical-align: middle;\n",
       "    }\n",
       "\n",
       "    .dataframe tbody tr th {\n",
       "        vertical-align: top;\n",
       "    }\n",
       "\n",
       "    .dataframe thead th {\n",
       "        text-align: right;\n",
       "    }\n",
       "</style>\n",
       "<table border=\"1\" class=\"dataframe\">\n",
       "  <thead>\n",
       "    <tr style=\"text-align: right;\">\n",
       "      <th></th>\n",
       "      <th>ID</th>\n",
       "      <th>TransactionDate</th>\n",
       "      <th>HouseAge</th>\n",
       "      <th>DistanceToStation</th>\n",
       "      <th>NumberOfPubs</th>\n",
       "      <th>PostCode</th>\n",
       "      <th>HousePrice</th>\n",
       "    </tr>\n",
       "  </thead>\n",
       "  <tbody>\n",
       "    <tr>\n",
       "      <th>8718</th>\n",
       "      <td>8718</td>\n",
       "      <td>2020.08</td>\n",
       "      <td>16.0</td>\n",
       "      <td>122.432508</td>\n",
       "      <td>5.0</td>\n",
       "      <td>5213.0</td>\n",
       "      <td>??</td>\n",
       "    </tr>\n",
       "  </tbody>\n",
       "</table>\n",
       "</div>"
      ],
      "text/plain": [
       "        ID TransactionDate  HouseAge  DistanceToStation  NumberOfPubs  \\\n",
       "8718  8718         2020.08      16.0         122.432508           5.0   \n",
       "\n",
       "     PostCode HousePrice  \n",
       "8718   5213.0         ??  "
      ]
     },
     "execution_count": 53,
     "metadata": {},
     "output_type": "execute_result"
    }
   ],
   "source": [
    "train[train['HousePrice'] == \"??\"]"
   ]
  },
  {
   "cell_type": "code",
   "execution_count": 54,
   "metadata": {},
   "outputs": [],
   "source": [
    "train = train[train['HousePrice'] != \"??\"]"
   ]
  },
  {
   "cell_type": "code",
   "execution_count": 55,
   "metadata": {},
   "outputs": [
    {
     "data": {
      "text/html": [
       "<div>\n",
       "<style scoped>\n",
       "    .dataframe tbody tr th:only-of-type {\n",
       "        vertical-align: middle;\n",
       "    }\n",
       "\n",
       "    .dataframe tbody tr th {\n",
       "        vertical-align: top;\n",
       "    }\n",
       "\n",
       "    .dataframe thead th {\n",
       "        text-align: right;\n",
       "    }\n",
       "</style>\n",
       "<table border=\"1\" class=\"dataframe\">\n",
       "  <thead>\n",
       "    <tr style=\"text-align: right;\">\n",
       "      <th></th>\n",
       "      <th>ID</th>\n",
       "      <th>TransactionDate</th>\n",
       "      <th>HouseAge</th>\n",
       "      <th>DistanceToStation</th>\n",
       "      <th>NumberOfPubs</th>\n",
       "      <th>PostCode</th>\n",
       "      <th>HousePrice</th>\n",
       "    </tr>\n",
       "  </thead>\n",
       "  <tbody>\n",
       "  </tbody>\n",
       "</table>\n",
       "</div>"
      ],
      "text/plain": [
       "Empty DataFrame\n",
       "Columns: [ID, TransactionDate, HouseAge, DistanceToStation, NumberOfPubs, PostCode, HousePrice]\n",
       "Index: []"
      ]
     },
     "execution_count": 55,
     "metadata": {},
     "output_type": "execute_result"
    }
   ],
   "source": [
    "train[train['HousePrice'] == \"??\"]"
   ]
  },
  {
   "cell_type": "code",
   "execution_count": 57,
   "metadata": {},
   "outputs": [],
   "source": [
    "train['HousePrice'] = train['HousePrice'].astype(float)"
   ]
  },
  {
   "cell_type": "code",
   "execution_count": 59,
   "metadata": {},
   "outputs": [
    {
     "data": {
      "text/plain": [
       "ID                     int64\n",
       "TransactionDate       object\n",
       "HouseAge             float64\n",
       "DistanceToStation    float64\n",
       "NumberOfPubs         float64\n",
       "PostCode              object\n",
       "HousePrice           float64\n",
       "dtype: object"
      ]
     },
     "execution_count": 59,
     "metadata": {},
     "output_type": "execute_result"
    }
   ],
   "source": [
    "train.dtypes"
   ]
  },
  {
   "cell_type": "code",
   "execution_count": 64,
   "metadata": {},
   "outputs": [
    {
     "data": {
      "text/plain": [
       "<Axes: ylabel='HousePrice'>"
      ]
     },
     "execution_count": 64,
     "metadata": {},
     "output_type": "execute_result"
    },
    {
     "data": {
      "image/png": "[encoded data removed]",
      "text/plain": [
       "<Figure size 640x480 with 1 Axes>"
      ]
     },
     "metadata": {},
     "output_type": "display_data"
    }
   ],
   "source": [
    "sns.boxplot(train['HousePrice'])"
   ]
  },
  {
   "cell_type": "code",
   "execution_count": 65,
   "metadata": {},
   "outputs": [
    {
     "data": {
      "text/html": [
       "<div>\n",
       "<style scoped>\n",
       "    .dataframe tbody tr th:only-of-type {\n",
       "        vertical-align: middle;\n",
       "    }\n",
       "\n",
       "    .dataframe tbody tr th {\n",
       "        vertical-align: top;\n",
       "    }\n",
       "\n",
       "    .dataframe thead th {\n",
       "        text-align: right;\n",
       "    }\n",
       "</style>\n",
       "<table border=\"1\" class=\"dataframe\">\n",
       "  <thead>\n",
       "    <tr style=\"text-align: right;\">\n",
       "      <th></th>\n",
       "      <th>ID</th>\n",
       "      <th>TransactionDate</th>\n",
       "      <th>HouseAge</th>\n",
       "      <th>DistanceToStation</th>\n",
       "      <th>NumberOfPubs</th>\n",
       "      <th>PostCode</th>\n",
       "      <th>HousePrice</th>\n",
       "    </tr>\n",
       "  </thead>\n",
       "  <tbody>\n",
       "    <tr>\n",
       "      <th>9238</th>\n",
       "      <td>9238</td>\n",
       "      <td>2019.11</td>\n",
       "      <td>10.0</td>\n",
       "      <td>169.424413</td>\n",
       "      <td>1.0</td>\n",
       "      <td>5222.0</td>\n",
       "      <td>1205920.0</td>\n",
       "    </tr>\n",
       "    <tr>\n",
       "      <th>149</th>\n",
       "      <td>149</td>\n",
       "      <td>2020.09</td>\n",
       "      <td>9.0</td>\n",
       "      <td>228.930655</td>\n",
       "      <td>1.0</td>\n",
       "      <td>5222.0</td>\n",
       "      <td>1374277.0</td>\n",
       "    </tr>\n",
       "    <tr>\n",
       "      <th>6066</th>\n",
       "      <td>6066</td>\n",
       "      <td>2020.12</td>\n",
       "      <td>10.0</td>\n",
       "      <td>234.680008</td>\n",
       "      <td>1.0</td>\n",
       "      <td>5222.0</td>\n",
       "      <td>1374386.0</td>\n",
       "    </tr>\n",
       "    <tr>\n",
       "      <th>2749</th>\n",
       "      <td>2749</td>\n",
       "      <td>2021.06</td>\n",
       "      <td>9.0</td>\n",
       "      <td>38.864337</td>\n",
       "      <td>1.0</td>\n",
       "      <td>5222.0</td>\n",
       "      <td>1504501.0</td>\n",
       "    </tr>\n",
       "    <tr>\n",
       "      <th>8445</th>\n",
       "      <td>8445</td>\n",
       "      <td>2021.05</td>\n",
       "      <td>0.0</td>\n",
       "      <td>276.789752</td>\n",
       "      <td>9.0</td>\n",
       "      <td>5222.0</td>\n",
       "      <td>8989772.0</td>\n",
       "    </tr>\n",
       "    <tr>\n",
       "      <th>8103</th>\n",
       "      <td>8103</td>\n",
       "      <td>2019.05</td>\n",
       "      <td>7.0</td>\n",
       "      <td>640.223538</td>\n",
       "      <td>10.0</td>\n",
       "      <td>5217.0</td>\n",
       "      <td>NaN</td>\n",
       "    </tr>\n",
       "    <tr>\n",
       "      <th>7673</th>\n",
       "      <td>7673</td>\n",
       "      <td>nan</td>\n",
       "      <td>NaN</td>\n",
       "      <td>3830.892098</td>\n",
       "      <td>0.0</td>\n",
       "      <td>5217.0</td>\n",
       "      <td>NaN</td>\n",
       "    </tr>\n",
       "    <tr>\n",
       "      <th>32</th>\n",
       "      <td>32</td>\n",
       "      <td>2021.1</td>\n",
       "      <td>29.0</td>\n",
       "      <td>809.864711</td>\n",
       "      <td>8.0</td>\n",
       "      <td>5222.0</td>\n",
       "      <td>NaN</td>\n",
       "    </tr>\n",
       "    <tr>\n",
       "      <th>8112</th>\n",
       "      <td>8112</td>\n",
       "      <td>2019.08</td>\n",
       "      <td>20.0</td>\n",
       "      <td>370.088151</td>\n",
       "      <td>NaN</td>\n",
       "      <td>nan</td>\n",
       "      <td>NaN</td>\n",
       "    </tr>\n",
       "    <tr>\n",
       "      <th>7670</th>\n",
       "      <td>7670</td>\n",
       "      <td>2020.12</td>\n",
       "      <td>13.0</td>\n",
       "      <td>1837.649999</td>\n",
       "      <td>2.0</td>\n",
       "      <td>nan</td>\n",
       "      <td>NaN</td>\n",
       "    </tr>\n",
       "  </tbody>\n",
       "</table>\n",
       "</div>"
      ],
      "text/plain": [
       "        ID TransactionDate  HouseAge  DistanceToStation  NumberOfPubs  \\\n",
       "9238  9238         2019.11      10.0         169.424413           1.0   \n",
       "149    149         2020.09       9.0         228.930655           1.0   \n",
       "6066  6066         2020.12      10.0         234.680008           1.0   \n",
       "2749  2749         2021.06       9.0          38.864337           1.0   \n",
       "8445  8445         2021.05       0.0         276.789752           9.0   \n",
       "8103  8103         2019.05       7.0         640.223538          10.0   \n",
       "7673  7673             nan       NaN        3830.892098           0.0   \n",
       "32      32          2021.1      29.0         809.864711           8.0   \n",
       "8112  8112         2019.08      20.0         370.088151           NaN   \n",
       "7670  7670         2020.12      13.0        1837.649999           2.0   \n",
       "\n",
       "     PostCode  HousePrice  \n",
       "9238   5222.0   1205920.0  \n",
       "149    5222.0   1374277.0  \n",
       "6066   5222.0   1374386.0  \n",
       "2749   5222.0   1504501.0  \n",
       "8445   5222.0   8989772.0  \n",
       "8103   5217.0         NaN  \n",
       "7673   5217.0         NaN  \n",
       "32     5222.0         NaN  \n",
       "8112      nan         NaN  \n",
       "7670      nan         NaN  "
      ]
     },
     "execution_count": 65,
     "metadata": {},
     "output_type": "execute_result"
    }
   ],
   "source": [
    "train.sort_values('HousePrice').tail(10)"
   ]
  },
  {
   "cell_type": "code",
   "execution_count": 66,
   "metadata": {},
   "outputs": [],
   "source": [
    "train = train.drop(8445)"
   ]
  },
  {
   "cell_type": "code",
   "execution_count": 67,
   "metadata": {},
   "outputs": [
    {
     "data": {
      "text/plain": [
       "<Axes: ylabel='HousePrice'>"
      ]
     },
     "execution_count": 67,
     "metadata": {},
     "output_type": "execute_result"
    },
    {
     "data": {
      "image/png": "[encoded data removed]",
      "text/plain": [
       "<Figure size 640x480 with 1 Axes>"
      ]
     },
     "metadata": {},
     "output_type": "display_data"
    }
   ],
   "source": [
    "sns.boxplot(train['HousePrice'])"
   ]
  },
  {
   "cell_type": "code",
   "execution_count": 68,
   "metadata": {},
   "outputs": [
    {
     "data": {
      "text/plain": [
       "<Axes: ylabel='NumberOfPubs'>"
      ]
     },
     "execution_count": 68,
     "metadata": {},
     "output_type": "execute_result"
    },
    {
     "data": {
      "image/png": "[encoded data removed]",
      "text/plain": [
       "<Figure size 640x480 with 1 Axes>"
      ]
     },
     "metadata": {},
     "output_type": "display_data"
    }
   ],
   "source": [
    "sns.boxplot(train['NumberOfPubs'])"
   ]
  },
  {
   "cell_type": "code",
   "execution_count": 69,
   "metadata": {},
   "outputs": [
    {
     "data": {
      "text/html": [
       "<div>\n",
       "<style scoped>\n",
       "    .dataframe tbody tr th:only-of-type {\n",
       "        vertical-align: middle;\n",
       "    }\n",
       "\n",
       "    .dataframe tbody tr th {\n",
       "        vertical-align: top;\n",
       "    }\n",
       "\n",
       "    .dataframe thead th {\n",
       "        text-align: right;\n",
       "    }\n",
       "</style>\n",
       "<table border=\"1\" class=\"dataframe\">\n",
       "  <thead>\n",
       "    <tr style=\"text-align: right;\">\n",
       "      <th></th>\n",
       "      <th>ID</th>\n",
       "      <th>TransactionDate</th>\n",
       "      <th>HouseAge</th>\n",
       "      <th>DistanceToStation</th>\n",
       "      <th>NumberOfPubs</th>\n",
       "      <th>PostCode</th>\n",
       "      <th>HousePrice</th>\n",
       "    </tr>\n",
       "  </thead>\n",
       "  <tbody>\n",
       "    <tr>\n",
       "      <th>5334</th>\n",
       "      <td>5334</td>\n",
       "      <td>2021.07</td>\n",
       "      <td>33.0</td>\n",
       "      <td>130.200701</td>\n",
       "      <td>10.0</td>\n",
       "      <td>5212.0</td>\n",
       "      <td>326772.0</td>\n",
       "    </tr>\n",
       "    <tr>\n",
       "      <th>4738</th>\n",
       "      <td>4738</td>\n",
       "      <td>2021.11</td>\n",
       "      <td>34.0</td>\n",
       "      <td>42.324197</td>\n",
       "      <td>10.0</td>\n",
       "      <td>5614.0</td>\n",
       "      <td>518639.0</td>\n",
       "    </tr>\n",
       "    <tr>\n",
       "      <th>1046</th>\n",
       "      <td>1046</td>\n",
       "      <td>2020.01</td>\n",
       "      <td>23.0</td>\n",
       "      <td>568.984852</td>\n",
       "      <td>10.0</td>\n",
       "      <td>5213.0</td>\n",
       "      <td>312165.0</td>\n",
       "    </tr>\n",
       "    <tr>\n",
       "      <th>6257</th>\n",
       "      <td>6257</td>\n",
       "      <td>2019.01</td>\n",
       "      <td>34.0</td>\n",
       "      <td>98.166618</td>\n",
       "      <td>10.0</td>\n",
       "      <td>5222.0</td>\n",
       "      <td>489487.0</td>\n",
       "    </tr>\n",
       "    <tr>\n",
       "      <th>2916</th>\n",
       "      <td>2916</td>\n",
       "      <td>2021.06</td>\n",
       "      <td>8.0</td>\n",
       "      <td>656.962289</td>\n",
       "      <td>10.0</td>\n",
       "      <td>5217.0</td>\n",
       "      <td>511688.0</td>\n",
       "    </tr>\n",
       "    <tr>\n",
       "      <th>422</th>\n",
       "      <td>422</td>\n",
       "      <td>2019.1</td>\n",
       "      <td>32.0</td>\n",
       "      <td>164.514773</td>\n",
       "      <td>10.0</td>\n",
       "      <td>5614.0</td>\n",
       "      <td>346126.0</td>\n",
       "    </tr>\n",
       "    <tr>\n",
       "      <th>5763</th>\n",
       "      <td>5763</td>\n",
       "      <td>2020.02</td>\n",
       "      <td>33.0</td>\n",
       "      <td>326.339631</td>\n",
       "      <td>10.0</td>\n",
       "      <td>5222.0</td>\n",
       "      <td>555253.0</td>\n",
       "    </tr>\n",
       "    <tr>\n",
       "      <th>13</th>\n",
       "      <td>13</td>\n",
       "      <td>2019.05</td>\n",
       "      <td>8.0</td>\n",
       "      <td>273.264542</td>\n",
       "      <td>4999999.0</td>\n",
       "      <td>5213.0</td>\n",
       "      <td>356012.0</td>\n",
       "    </tr>\n",
       "    <tr>\n",
       "      <th>2416</th>\n",
       "      <td>2416</td>\n",
       "      <td>2019.06</td>\n",
       "      <td>NaN</td>\n",
       "      <td>NaN</td>\n",
       "      <td>NaN</td>\n",
       "      <td>5222.0</td>\n",
       "      <td>268172.0</td>\n",
       "    </tr>\n",
       "    <tr>\n",
       "      <th>8112</th>\n",
       "      <td>8112</td>\n",
       "      <td>2019.08</td>\n",
       "      <td>20.0</td>\n",
       "      <td>370.088151</td>\n",
       "      <td>NaN</td>\n",
       "      <td>nan</td>\n",
       "      <td>NaN</td>\n",
       "    </tr>\n",
       "  </tbody>\n",
       "</table>\n",
       "</div>"
      ],
      "text/plain": [
       "        ID TransactionDate  HouseAge  DistanceToStation  NumberOfPubs  \\\n",
       "5334  5334         2021.07      33.0         130.200701          10.0   \n",
       "4738  4738         2021.11      34.0          42.324197          10.0   \n",
       "1046  1046         2020.01      23.0         568.984852          10.0   \n",
       "6257  6257         2019.01      34.0          98.166618          10.0   \n",
       "2916  2916         2021.06       8.0         656.962289          10.0   \n",
       "422    422          2019.1      32.0         164.514773          10.0   \n",
       "5763  5763         2020.02      33.0         326.339631          10.0   \n",
       "13      13         2019.05       8.0         273.264542     4999999.0   \n",
       "2416  2416         2019.06       NaN                NaN           NaN   \n",
       "8112  8112         2019.08      20.0         370.088151           NaN   \n",
       "\n",
       "     PostCode  HousePrice  \n",
       "5334   5212.0    326772.0  \n",
       "4738   5614.0    518639.0  \n",
       "1046   5213.0    312165.0  \n",
       "6257   5222.0    489487.0  \n",
       "2916   5217.0    511688.0  \n",
       "422    5614.0    346126.0  \n",
       "5763   5222.0    555253.0  \n",
       "13     5213.0    356012.0  \n",
       "2416   5222.0    268172.0  \n",
       "8112      nan         NaN  "
      ]
     },
     "execution_count": 69,
     "metadata": {},
     "output_type": "execute_result"
    }
   ],
   "source": [
    "train.sort_values('NumberOfPubs').tail(10)"
   ]
  },
  {
   "cell_type": "code",
   "execution_count": 70,
   "metadata": {},
   "outputs": [],
   "source": [
    "train = train.drop(13)"
   ]
  },
  {
   "cell_type": "code",
   "execution_count": 71,
   "metadata": {},
   "outputs": [
    {
     "data": {
      "text/plain": [
       "<Axes: ylabel='NumberOfPubs'>"
      ]
     },
     "execution_count": 71,
     "metadata": {},
     "output_type": "execute_result"
    },
    {
     "data": {
      "image/png": "[encoded data removed]",
      "text/plain": [
       "<Figure size 640x480 with 1 Axes>"
      ]
     },
     "metadata": {},
     "output_type": "display_data"
    }
   ],
   "source": [
    "sns.boxplot(train['NumberOfPubs'])"
   ]
  },
  {
   "cell_type": "code",
   "execution_count": 72,
   "metadata": {},
   "outputs": [
    {
     "data": {
      "text/plain": [
       "<Axes: ylabel='DistanceToStation'>"
      ]
     },
     "execution_count": 72,
     "metadata": {},
     "output_type": "execute_result"
    },
    {
     "data": {
      "image/png": "[encoded data removed]",
      "text/plain": [
       "<Figure size 640x480 with 1 Axes>"
      ]
     },
     "metadata": {},
     "output_type": "display_data"
    }
   ],
   "source": [
    "sns.boxplot(train['DistanceToStation'])"
   ]
  },
  {
   "cell_type": "code",
   "execution_count": null,
   "metadata": {},
   "outputs": [],
   "source": []
  }
 ],
 "metadata": {
  "kernelspec": {
   "display_name": "houseprediction",
   "language": "python",
   "name": "python3"
  },
  "language_info": {
   "codemirror_mode": {
    "name": "ipython",
    "version": 3
   },
   "file_extension": ".py",
   "mimetype": "text/x-python",
   "name": "python",
   "nbconvert_exporter": "python",
   "pygments_lexer": "ipython3",
   "version": "3.12.0"
  }
 },
 "nbformat": 4,
 "nbformat_minor": 2
}
